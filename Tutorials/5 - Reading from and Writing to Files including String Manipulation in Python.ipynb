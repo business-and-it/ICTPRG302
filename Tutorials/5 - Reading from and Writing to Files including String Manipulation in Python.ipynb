{
 "cells": [
  {
   "cell_type": "markdown",
   "id": "bb71e3b5",
   "metadata": {},
   "source": [
    "# Tutorial - Reading from and writing to Files, String Manipulation in Python\n",
    "\n",
    "In this tutorial, we will guide you through the process of reading from and writing to files, as well as string manipulation techniques in Python. We will cover opening, reading, and writing files, as well as various string manipulation functions and methods. Let's get started!"
   ]
  },
  {
   "cell_type": "markdown",
   "id": "3668aaa4",
   "metadata": {},
   "source": [
    "## Reading from a File\n",
    "\n",
    "In the code cell below, type in the following Python code:\n",
    "\n",
    "```python \n",
    "\n",
    "# Example of reading from a file \n",
    "\n",
    "file_path = \"sample.txt\" \n",
    "\n",
    "with open(file_path, \"r\") as file: \n",
    "    content = file.read() \n",
    "    print(content) \n",
    "\n",
    "```\n",
    "\n",
    "This code opens a file named \"sample.txt\" in read mode using the `open` function. It reads the contents of the file using the `read` method and assigns it to the `content` variable. Finally, it prints the content of the file.\n",
    "\n",
    "Create a file named \"sample.txt: in the same director as your Python file and populate it with some text.\n",
    "\n",
    "Run the code cell by pressing `Shift` + `Enter` or clicking on the \"Run\" button in the toolbar. The contents of the file will be read and displayed in the output. "
   ]
  },
  {
   "cell_type": "code",
   "execution_count": null,
   "id": "fb3144c4",
   "metadata": {},
   "outputs": [],
   "source": []
  },
  {
   "cell_type": "markdown",
   "id": "5cc31b09",
   "metadata": {},
   "source": [
    "## Writing to a File\n",
    "\n",
    "In the code cell below, type in the following Python code:\n",
    "\n",
    "\n",
    "```python \n",
    "\n",
    "# Example of writing to a file \n",
    "\n",
    "file_path = \"output.txt\" \n",
    "\n",
    "content = \"This is some text to write to the file.\" \n",
    "\n",
    "with open(file_path, \"w\") as file: \n",
    "    file.write(content) \n",
    "\n",
    "``` \n",
    "\n",
    "This code opens a file named \"output.txt\" in write mode using the `open` function. It writes the contents of the `content` variable to the file using the `write` method. \n",
    "\n",
    "Run the code cell by pressing `Shift` + `Enter` or clicking on the \"Run\" button in the toolbar."
   ]
  },
  {
   "cell_type": "code",
   "execution_count": null,
   "id": "c97e35fc",
   "metadata": {},
   "outputs": [],
   "source": []
  },
  {
   "cell_type": "markdown",
   "id": "443a5e74",
   "metadata": {},
   "source": [
    "Open the \"output.txt\" file to verify that the content has been written successfully."
   ]
  },
  {
   "cell_type": "markdown",
   "id": "95d889c6",
   "metadata": {},
   "source": [
    "## String Manipulation Techniques\n",
    "\n",
    "In the code cell below, type in the following Python code:\n",
    "\n",
    "```pyton\n",
    "\n",
    "# Example of string manipulation techniques\n",
    "\n",
    "print(\"Length of text:\", len(text)) \n",
    "print(\"Uppercase text:\", text.upper()) \n",
    "print(\"Lowercase text:\", text.lower()) \n",
    "print(\"Reversed text:\", text[::-1]) \n",
    "\n",
    "```\n",
    "\n",
    "This code demonstrates various string manipulation techniques. It defines a string variable `text` and performs the following operations:\n",
    "\n",
    "- `len(text)`: Returns the length of the string. \n",
    "- `text.upper()`: Converts the string to uppercase. \n",
    "- `text.lower()`: Converts the string to lowercase. \n",
    "- `text[::-1]`: Reverses the string using slicing.\n",
    "   \n",
    "Run the code cell by pressing `Shift` + `Enter` or clicking on the \"Run\" button in the toolbar.  The length of the text, uppercase version, lowercase version, and reversed version of the string will be displayed."
   ]
  },
  {
   "cell_type": "code",
   "execution_count": null,
   "id": "ffae9291",
   "metadata": {},
   "outputs": [],
   "source": []
  },
  {
   "cell_type": "markdown",
   "id": "47a6e647",
   "metadata": {},
   "source": [
    "Congratulations! You have learned how to read from and write to files, as well as various string manipulation techniques in Python. You explored opening, reading, and writing files using the `open`function, as well as string manipulation functions and methods. \n",
    "\n",
    "Continue practicing by working with different files, performing more complex string manipulations, and exploring additional string methods and functions available in Python. \n",
    "\n",
    "Enjoy working with files and manipulating strings in Python! "
   ]
  }
 ],
 "metadata": {
  "kernelspec": {
   "display_name": "Python 3 (ipykernel)",
   "language": "python",
   "name": "python3"
  },
  "language_info": {
   "codemirror_mode": {
    "name": "ipython",
    "version": 3
   },
   "file_extension": ".py",
   "mimetype": "text/x-python",
   "name": "python",
   "nbconvert_exporter": "python",
   "pygments_lexer": "ipython3",
   "version": "3.9.13"
  }
 },
 "nbformat": 4,
 "nbformat_minor": 5
}
