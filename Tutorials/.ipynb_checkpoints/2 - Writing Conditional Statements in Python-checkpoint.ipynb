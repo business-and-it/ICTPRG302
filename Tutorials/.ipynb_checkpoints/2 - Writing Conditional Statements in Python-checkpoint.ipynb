{
 "cells": [
  {
   "cell_type": "markdown",
   "id": "53a00023",
   "metadata": {},
   "source": [
    "# Tutorial: Writing Conditional Statements in Python\n",
    "\n",
    "In this tutorial, we will guide you through the process of writing conditional statements in Python. Conditional statements allow you to control the flow of your program based on certain conditions. We will cover the basic syntax and usage of `if`, `if-else`, and `if-elif-else` statements. Let's get started!"
   ]
  },
  {
   "cell_type": "markdown",
   "id": "7cd42d11",
   "metadata": {},
   "source": [
    "## Writing 'if' Statements\n",
    "\n",
    "In the code cell below, type the following Python code:\n",
    "\n",
    "```python\n",
    "\n",
    "# Example of an if statement\n",
    "\n",
    "age = 18\n",
    "if age >= 18:\n",
    "    print(\"You are eligible to vote!\")\n",
    "\n",
    "```\n",
    "\n",
    "This code checks if the 'age' variable is greater than or equal to 18.  if the condition is 'True', it prints the message \"You are eleigible to vote!\".\n",
    "\n",
    "Type the code into the code cell below.  To run the code, press 'Shift' + 'Enter' or click on the \"Run\" button in the toolbar.  The output \"You are eligible to vote!\" will be displayed if the condition is 'True'"
   ]
  },
  {
   "cell_type": "code",
   "execution_count": null,
   "id": "86ae46b9",
   "metadata": {},
   "outputs": [],
   "source": []
  },
  {
   "cell_type": "markdown",
   "id": "1a583d6d",
   "metadata": {},
   "source": [
    "Experiment with different vaues of the 'age' variable and observe how the output changes based on the condition."
   ]
  },
  {
   "cell_type": "markdown",
   "id": "36e21c2a",
   "metadata": {},
   "source": [
    "## Writing 'if-else' Statements\n",
    "\n",
    "In the code cell below, type the following Python code:\n",
    "\n",
    "```python\n",
    "\n",
    "\n",
    "# Example of an if-else statement\n",
    "\n",
    "temperature = 25\n",
    "\n",
    "if temperature >= 30:\n",
    "    print(\"It's a hot day!\")\n",
    "else:\n",
    "    print(\"It's not a hot day!\")\n",
    "\n",
    "\n",
    "```\n",
    "\n",
    "This code checks if the 'temperature' variable is greater than or equal to 30.  if the condition is 'True', it prints \"It's a hot day!\".  Otherwise, it prints \"It's not a hot day!\".\n",
    "\n",
    "Run the code cell and observe the output based on different values of the 'temperature' variable."
   ]
  },
  {
   "cell_type": "code",
   "execution_count": null,
   "id": "9e923064",
   "metadata": {},
   "outputs": [],
   "source": []
  },
  {
   "cell_type": "markdown",
   "id": "6bcb7e7e",
   "metadata": {},
   "source": [
    "## Writing 'if-elif' Statements\n",
    "\n",
    "In the code cell below, type the following Python code:\n",
    "\n",
    "```python\n",
    "\n",
    "import random\n",
    "number = random.randint(-3,3) # a random number between -3 and 3\n",
    "\n",
    "# Example of an if-elif statement\n",
    "\n",
    "if number > 0:\n",
    "    print(number, 'is positive')\n",
    "elif number < 0:\n",
    "    print(number, 'is negative')\n",
    "\n",
    "```\n",
    "\n",
    "This code checks the value of the `number` variable and prints a different message based on the conditions. If `number` is zero, nothing will be printed.\n",
    "\n",
    "Run the code cell and observe the output based on different values of the `number` variable.  Experiment with adding more 'elif' clauses to handle additional conditions."
   ]
  },
  {
   "cell_type": "code",
   "execution_count": 9,
   "id": "3a13f0aa",
   "metadata": {},
   "outputs": [],
   "source": []
  },
  {
   "cell_type": "markdown",
   "id": "1fa0429c",
   "metadata": {},
   "source": [
    "## Writing 'if-elif-else' Statements\n",
    "\n",
    "In the code cell below, type the following Python code:\n",
    "\n",
    "```python\n",
    "\n",
    "# Example of an if-elif-else statement\n",
    "\n",
    "day_of_week = \"Wednesday\"\n",
    "\n",
    "if day_of_week == \"Monday\":\n",
    "    print(\"It's the beginning of the week.\")\n",
    "elif day_of_week == \"Friday\":\n",
    "    print(\"It's the end of the week.\")\n",
    "else:\n",
    "    print(\"It's a regular day\")\n",
    "\n",
    "```\n",
    "\n",
    "This code checks the value of the 'day_of_week' variable and prints a different message based on the condition.\n",
    "\n",
    "Run the code cell and observe the output based on different values of the 'day_of_week' variable.  Experiment with adding more 'elif' clauses to handle additional conditions."
   ]
  },
  {
   "cell_type": "code",
   "execution_count": null,
   "id": "975c281f",
   "metadata": {},
   "outputs": [],
   "source": []
  },
  {
   "cell_type": "markdown",
   "id": "895b0ce7",
   "metadata": {},
   "source": [
    "## Nested Conditional Statements\n",
    "\n",
    "In the code cell below, type the following Python code:\n",
    "\n",
    "```python\n",
    "\n",
    "\n",
    "# Example of nested conditional statements\n",
    "\n",
    "temperature = 20\n",
    "time_of_day = \"morning\"\n",
    "\n",
    "if temperature > 30:\n",
    "    if time_of_day == \"morning\":\n",
    "        print(\"It's a hot morning!\")\n",
    "    else:\n",
    "        print(\"It's a hot day.\")\n",
    "else:\n",
    "    print(\"It's not a hot day\")\n",
    "\n",
    "```\n",
    "\n",
    "This code demonstrates how to nest conditional statements within each other.\n",
    "\n",
    "Run the code cell and observe the output based on different values of the 'temperature' and 'time_of_day' variables."
   ]
  },
  {
   "cell_type": "code",
   "execution_count": null,
   "id": "f58da20a",
   "metadata": {},
   "outputs": [],
   "source": []
  },
  {
   "cell_type": "markdown",
   "id": "0d41642b",
   "metadata": {},
   "source": [
    "Congratulations! You have learned how to write conditional statements in Python. You explored `if`, `if-else`, and `if-elif-else` statements, as well as nested conditional statements. Conditional statements are powerful tools that allow you to control the flow of your program based on specific conditions. \n",
    "\n",
    "Continue practicing by writing more complex conditional statements and experimenting with different conditions and variables. You can also combine conditional statements with other programming concepts to create more sophisticated programs.\n",
    "\n",
    "Enjoy coding with conditional statements in Python! "
   ]
  }
 ],
 "metadata": {
  "kernelspec": {
   "display_name": "Python 3 (ipykernel)",
   "language": "python",
   "name": "python3"
  },
  "language_info": {
   "codemirror_mode": {
    "name": "ipython",
    "version": 3
   },
   "file_extension": ".py",
   "mimetype": "text/x-python",
   "name": "python",
   "nbconvert_exporter": "python",
   "pygments_lexer": "ipython3",
   "version": "3.9.13"
  }
 },
 "nbformat": 4,
 "nbformat_minor": 5
}
