{
 "cells": [
  {
   "cell_type": "markdown",
   "id": "1bc22c37",
   "metadata": {},
   "source": [
    "# Tutorial: Writing Loops in Python\n",
    "\n",
    "In this tutorial, we will guide you through the process of writing loops in Python.  Loops allow you to repeatedly execute a block of code based on a condition.  We will cover the `for` loop and the `while` loop, along with their syntax and usage.  Let's get started."
   ]
  },
  {
   "cell_type": "markdown",
   "id": "399ec103",
   "metadata": {},
   "source": [
    "## Writing `for` loops\n",
    "\n",
    "In the code cell below, type the following Python code:\n",
    "\n",
    "```python\n",
    "\n",
    "# Example of a for loop\n",
    "\n",
    "fruits = [\"apple\", \"banana\", \"orange\"]\n",
    "\n",
    "for fruit in fruits:\n",
    "    print(fruit)\n",
    "\n",
    "```\n",
    "\n",
    "This code uses a `for` loop to iterate over each element in the `fruits` list and prints each element.\n",
    "\n",
    "For loops are guaranteed to end. We use them to iterate over predefined data such as characters in a string, items in a list, or integers in a range.\n",
    "\n",
    "To run the code, press 'Shift' + 'Enter' or click on the \"Run\" button the in the toolbar.  The output will display each fruit in a separate line."
   ]
  },
  {
   "cell_type": "code",
   "execution_count": null,
   "id": "277c54b4",
   "metadata": {},
   "outputs": [],
   "source": []
  },
  {
   "cell_type": "markdown",
   "id": "a9053129",
   "metadata": {},
   "source": [
    "Experiment with different lists and observe how the `for` loop iterates over the elements."
   ]
  },
  {
   "cell_type": "markdown",
   "id": "c1ff2332",
   "metadata": {},
   "source": [
    "## Writing `while` loops\n",
    "\n",
    "In the code cell below, type the following Python code:\n",
    "\n",
    "\n",
    "```python \n",
    "\n",
    "import random\n",
    "number = random.randint(1,10) # a random number between 1 and 10\n",
    "\n",
    "# Example of a while loop \n",
    "\n",
    "while number < 8:\n",
    "    print('Number:', number)\n",
    "    number = random.randint(1,10) \n",
    "\n",
    "``` \n",
    "This code uses a `while` loop to repeatedly execute the indented block of code as long as the condition `number < 8` is `True`. It prints the value of `number` in each iteration until the condition becomes `False`.\n",
    "\n",
    "While loops are not guaranteed to end. We use while loops when the number of iterations is unknown or ambiguous. \n",
    "\n",
    "To run the code, press 'Shift' + 'Enter' or click on the \"Run\" button the in the toolbar.  The loop will execute a random number of times, printing the value of `number` each iteration."
   ]
  },
  {
   "cell_type": "code",
   "execution_count": null,
   "id": "1175f6a6",
   "metadata": {},
   "outputs": [],
   "source": []
  },
  {
   "cell_type": "markdown",
   "id": "1e3b0d5b",
   "metadata": {},
   "source": [
    "## Infinite Loops\n",
    "\n",
    "Be cautious when writing `while` loops to avoid infinite iterating. \n",
    "\n",
    "Sometimes it is desireable to have a loop iterate infinitely, in which case we can use:\n",
    "\n",
    "```python\n",
    "while True:\n",
    "    # do something\n",
    "```\n",
    "\n",
    "`while True` loops can be helpful when there are multiple reasons to exit using `break` or when we want the loop to execute at least once no matter what. Sometimes we just want our code to run infinitely like when a server is listening for connections."
   ]
  },
  {
   "cell_type": "markdown",
   "id": "d84eb6f9",
   "metadata": {},
   "source": [
    "## Shopping List\n",
    "\n",
    "```python\n",
    "shopping_list = [] # an empty list\n",
    "\n",
    "# we use a while loop to add items to our shopping list, as we are not certain how many items we will add\n",
    "item = input('Enter item: ')\n",
    "while item: # while the item is not an empty string it is considered True\n",
    "    shopping_list.append(item)\n",
    "    item = input('Enter item: ')\n",
    "\n",
    "# we use a for loop to display our items as we have an existing list to iterate over\n",
    "print('\\nShopping List')\n",
    "for item in shopping_list:\n",
    "    print(item)\n",
    "```"
   ]
  },
  {
   "cell_type": "code",
   "execution_count": null,
   "id": "006203f3",
   "metadata": {},
   "outputs": [],
   "source": []
  },
  {
   "cell_type": "markdown",
   "id": "fc1d469d",
   "metadata": {},
   "source": [
    "## Loop control statements\n",
    "\n",
    "In the code cell below, type in the following Python code:\n",
    "\n",
    "```python \n",
    "\n",
    "# Example of loop control statements \n",
    "\n",
    "numbers = [1, 2, 3, 4, 5] \n",
    "\n",
    "for number in numbers:\n",
    "    if number == 3:\n",
    "        continue\n",
    "    if number == 5:\n",
    "        break\n",
    "    print(number) \n",
    "\n",
    "``` \n",
    "\n",
    "This code demonstrates the use of loop control statements within a `for` loop. The `continue` statement skips the iteration when `number` is equal to 3, and the `break` statement terminates the loop when `number` is equal to 5.\n",
    "\n",
    "To run the code, press 'Shift' + 'Enter' or click on the \"Run\" button the in the toolbar. The loop will skip the number 3 and terminate when it reaches the number 5. "
   ]
  },
  {
   "cell_type": "code",
   "execution_count": null,
   "id": "86aaa4c9",
   "metadata": {},
   "outputs": [],
   "source": []
  },
  {
   "cell_type": "markdown",
   "id": "24113af7",
   "metadata": {},
   "source": [
    "Experiment with different conditions and observe how the loop control statements affect the execution of the loop."
   ]
  },
  {
   "cell_type": "markdown",
   "id": "d750ea72",
   "metadata": {},
   "source": [
    "## Nested Loops\n",
    "\n",
    "In the code cell below, type in the following Python code:\n",
    "\n",
    "```python \n",
    "words = ['the', 'quick', 'brown', 'dog', 'jumps', 'over', 'the', 'lazy', 'fox']\n",
    "\n",
    "# Example of nested loops \n",
    "for word in words:\n",
    "    for letter in word:\n",
    "        print(letter)\n",
    "    print()\n",
    "```\n",
    "\n",
    "This code demonstrates nested loops, where a loop is placed inside another loop. In this case, there is an outer loop that iterates over words in a list, and an inner loop that iterates over letters in each word. \n",
    "\n",
    "To run the code, press 'Shift' + 'Enter' or click on the \"Run\" button the in the toolbar."
   ]
  },
  {
   "cell_type": "code",
   "execution_count": null,
   "id": "36e37280",
   "metadata": {},
   "outputs": [],
   "source": []
  },
  {
   "cell_type": "markdown",
   "id": "e7dd9e9d",
   "metadata": {},
   "source": [
    "## Enumerate\n",
    "\n",
    "In the code cell below, type in the following Python code:\n",
    "\n",
    "```python \n",
    "words = ['the', 'quick', 'brown', 'dog', 'jumps', 'over', 'the', 'lazy', 'fox']\n",
    "\n",
    "# Example of nested loops \n",
    "for word in words:\n",
    "    for i, letter in enumerate(word):\n",
    "        print(i, ':', letter)\n",
    "    print()\n",
    "```\n",
    "\n",
    "The enumerate function keeps track of the index of each item in the sequence. In this case the index of each letter in each word. \n",
    "\n",
    "To run the code, press 'Shift' + 'Enter' or click on the \"Run\" button the in the toolbar."
   ]
  },
  {
   "cell_type": "code",
   "execution_count": null,
   "id": "a6dbe07d",
   "metadata": {},
   "outputs": [],
   "source": []
  },
  {
   "cell_type": "markdown",
   "id": "8889fb65",
   "metadata": {},
   "source": [
    "## Else clause on loops\n",
    "\n",
    "In Python we can have an else clause on loops that will execute when a loop does not encounter a `break` or `return` statement. This means the body of the else can execute under two circumstances:\n",
    "- if the loop body never enters\n",
    "- if the loop ends naturally\n",
    "\n",
    "```python\n",
    "vowels = 'aeiou'\n",
    "word = input('Enter a word: ')\n",
    "\n",
    "for letter in word:\n",
    "    if letter in vowels:\n",
    "        print(word, 'contains a vowel.')\n",
    "        break\n",
    "else:\n",
    "    print(word, 'contains no vowels.')\n",
    "```"
   ]
  },
  {
   "cell_type": "code",
   "execution_count": null,
   "id": "5303c931",
   "metadata": {},
   "outputs": [],
   "source": []
  },
  {
   "cell_type": "markdown",
   "id": "83a895d5",
   "metadata": {},
   "source": [
    "Congratulations! You have learned how to write loops in Python. You explored the `for` loop and the `while` loop, as well as loop control statements and nested loops. Loops are essential for iterating over elements in lists, performing repetitive tasks, and controlling program flow. \n",
    "\n",
    "Continue practicing by writing more complex loops and experimenting with different conditions and variables. You can also combine loops with conditional statements to create more sophisticated programs. \n",
    "\n",
    "Enjoy coding with loops in Python! "
   ]
  }
 ],
 "metadata": {
  "kernelspec": {
   "display_name": "Python 3 (ipykernel)",
   "language": "python",
   "name": "python3"
  },
  "language_info": {
   "codemirror_mode": {
    "name": "ipython",
    "version": 3
   },
   "file_extension": ".py",
   "mimetype": "text/x-python",
   "name": "python",
   "nbconvert_exporter": "python",
   "pygments_lexer": "ipython3",
   "version": "3.9.13"
  }
 },
 "nbformat": 4,
 "nbformat_minor": 5
}
