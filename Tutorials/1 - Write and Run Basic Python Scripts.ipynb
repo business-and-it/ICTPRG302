{
 "cells": [
  {
   "cell_type": "markdown",
   "id": "c3797360",
   "metadata": {},
   "source": [
    "# Tutorial: Write and Run Basic Python Script\n",
    "\n",
    "In the code cell below, type in the following Python Code:\n",
    "\n",
    "```python\n",
    "# This is a simple Python program\n",
    "\n",
    "print(\"Hello, World!\")\n",
    "\n",
    "```\n",
    "\n",
    "To run the code, press 'Shift' + 'Enter' or click on the \"Run\" button the in the toolbar.  The output, \"Hello, World!\" will be displayed below the code cell."
   ]
  },
  {
   "cell_type": "code",
   "execution_count": null,
   "id": "5e389e9f",
   "metadata": {},
   "outputs": [],
   "source": []
  }
 ],
 "metadata": {
  "kernelspec": {
   "display_name": "Python 3 (ipykernel)",
   "language": "python",
   "name": "python3"
  },
  "language_info": {
   "codemirror_mode": {
    "name": "ipython",
    "version": 3
   },
   "file_extension": ".py",
   "mimetype": "text/x-python",
   "name": "python",
   "nbconvert_exporter": "python",
   "pygments_lexer": "ipython3",
   "version": "3.9.13"
  }
 },
 "nbformat": 4,
 "nbformat_minor": 5
}
