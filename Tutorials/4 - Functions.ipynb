{
 "cells": [
  {
   "cell_type": "markdown",
   "id": "f470eec3",
   "metadata": {},
   "source": [
    "# Tutorial: Functions\n",
    "\n",
    "In this tutorial, we will guide you through the process of defining and calling functions in Python. Functions are reusable blocks of code that perform a specific task. We will cover the syntax and usage of function definition, function parameters, return values, and function calls. Let's get started!"
   ]
  },
  {
   "cell_type": "markdown",
   "id": "6b29b124",
   "metadata": {},
   "source": [
    "## Defining and Calling Functions in Python\n",
    "\n",
    "In the code cell below, type the following Python code:\n",
    "\n",
    "```python \n",
    "\n",
    "# Example of a function definition \n",
    "\n",
    "def greet():\n",
    "    print(\"Hello, there!\") \n",
    "\n",
    "``` \n",
    "\n",
    "This code defines a function named `greet` that prints the message \"Hello, there!\". \n",
    "\n",
    "To run the code, press 'Shift' + 'Enter' or click on the \"Run\" button the in the toolbar. The function will be defined, but it won't produce any output. "
   ]
  },
  {
   "cell_type": "code",
   "execution_count": null,
   "id": "d77c3a65",
   "metadata": {},
   "outputs": [],
   "source": []
  },
  {
   "cell_type": "markdown",
   "id": "eaf14258",
   "metadata": {},
   "source": [
    "## Calling Functions\n",
    "\n",
    "In the code cell below, type the following Python code:\n",
    "\n",
    "```python \n",
    "\n",
    "# Example of calling a function \n",
    "\n",
    "greet() \n",
    "\n",
    "```\n",
    "\n",
    "This code calls the `greet` function that was defined in the previous step.\n",
    "\n",
    "To run the code, press 'Shift' + 'Enter' or click on the \"Run\" button the in the toolbar. The function call will execute the code inside the function and print the message \"Hello, there!\". "
   ]
  },
  {
   "cell_type": "code",
   "execution_count": null,
   "id": "f521a3a8",
   "metadata": {},
   "outputs": [],
   "source": []
  },
  {
   "cell_type": "markdown",
   "id": "874a8249",
   "metadata": {},
   "source": [
    "## Function Parameters\n",
    "\n",
    "In the code cell below, type the following Python code:\n",
    "\n",
    "```python \n",
    "\n",
    "# Example of a function with parameters \n",
    "\n",
    "def greet(name):\n",
    "    print(\"Hello, \" + name + \"!\") \n",
    "\n",
    "``` \n",
    "\n",
    "This code defines a function named `greet` that takes a parameter named `name`. The function prints a personalized greeting by concatenating the value of `name` with the message. \n",
    "\n",
    "To run the code, press 'Shift' + 'Enter' or click on the \"Run\" button the in the toolbar. The function will be defined but it won't produce any output."
   ]
  },
  {
   "cell_type": "code",
   "execution_count": null,
   "id": "c69c2ada",
   "metadata": {},
   "outputs": [],
   "source": []
  },
  {
   "cell_type": "markdown",
   "id": "3c06fbfe",
   "metadata": {},
   "source": [
    "In the code cell below, type the following Python code:\n",
    "\n",
    "```python \n",
    "\n",
    "# Example of calling a function with arguments \n",
    "\n",
    "greet(\"Alice\") \n",
    "\n",
    "greet(\"Bob\") \n",
    "\n",
    "``` \n",
    "\n",
    "This code calls the `greet` function multiple times with different arguments passed as the `name` parameter.\n",
    "\n",
    "To run the code, press 'Shift' + 'Enter' or click on the \"Run\" button the in the toolbar. The function calls will execute the code inside the function and print personalized greetings for the names \"Alice\" and \"Bob\"."
   ]
  },
  {
   "cell_type": "code",
   "execution_count": null,
   "id": "26b3ed13",
   "metadata": {},
   "outputs": [],
   "source": []
  },
  {
   "cell_type": "markdown",
   "id": "1d05e9f4",
   "metadata": {},
   "source": [
    "## Return Values\n",
    "\n",
    "In the code cell below, type the following Python code:\n",
    "\n",
    "```python \n",
    "\n",
    "# Example of a function with a return value \n",
    "\n",
    "def add_numbers(a, b): \n",
    "    return a + b \n",
    "\n",
    "``` \n",
    "\n",
    "This code defines a function named `add_numbers` that takes two parameters, `a` and `b`. The function returns the sum of `a` and `b` using the `return` statement. \n",
    "\n",
    "To run the code, press 'Shift' + 'Enter' or click on the \"Run\" button the in the toolbar. The function will be defined but it won't produce any output."
   ]
  },
  {
   "cell_type": "code",
   "execution_count": null,
   "id": "36fdca3e",
   "metadata": {},
   "outputs": [],
   "source": []
  },
  {
   "cell_type": "markdown",
   "id": "d133e596",
   "metadata": {},
   "source": [
    "In the code cell below, type the following Python code:\n",
    "\n",
    "```python \n",
    "\n",
    "# Example of calling a function with a return value \n",
    "\n",
    "result = add_numbers(5, 3) \n",
    "\n",
    "print(\"Result:\", result) \n",
    "\n",
    "``` \n",
    "\n",
    "This code calls the `add_numbers` function and assigns the returned value to a variable named `result`. It then prints the value of `result`.\n",
    "\n",
    "To run the code, press 'Shift' + 'Enter' or click on the \"Run\" button the in the toolbar. The function call will compute the sum of 5 and 3 and assign the result to the `result` variable. The value of `result` will be printed."
   ]
  },
  {
   "cell_type": "code",
   "execution_count": null,
   "id": "c39db64b",
   "metadata": {},
   "outputs": [],
   "source": []
  },
  {
   "cell_type": "markdown",
   "id": "a9814200",
   "metadata": {},
   "source": [
    "## Default Parameter Values\n",
    "```python \n",
    "import math\n",
    "\n",
    "# Example of a function with a default parameter values \n",
    "\n",
    "def hypotenuse(a=3, b=4): \n",
    "    return math.sqrt(a**2 + b**2) \n",
    "\n",
    "hypotenuse()\n",
    "hypotenuse(30,40)\n",
    "\n",
    "``` \n",
    "We can call the function with or without values for `a` and `b`. If no values are given, the default values will be used. "
   ]
  },
  {
   "cell_type": "code",
   "execution_count": null,
   "id": "b992325f",
   "metadata": {},
   "outputs": [],
   "source": []
  },
  {
   "cell_type": "code",
   "execution_count": null,
   "id": "417dda5e",
   "metadata": {},
   "outputs": [],
   "source": []
  },
  {
   "cell_type": "markdown",
   "id": "01c5d1e9",
   "metadata": {},
   "source": [
    "Congratulations! You have learned how to define and call functions in Python. You explored function definition, function parameters, return values, and function calls. Functions are powerful tools that allow you to encapsulate reusable code and perform specific tasks.\n",
    "\n",
    "Continue practicing by defining and calling more functions with different parameters and return values. You can also explore additional concepts such as default arguments, variable-length arguments, and recursive functions.\n",
    "\n",
    "Enjoy coding with functions in Python!"
   ]
  }
 ],
 "metadata": {
  "kernelspec": {
   "display_name": "Python 3 (ipykernel)",
   "language": "python",
   "name": "python3"
  },
  "language_info": {
   "codemirror_mode": {
    "name": "ipython",
    "version": 3
   },
   "file_extension": ".py",
   "mimetype": "text/x-python",
   "name": "python",
   "nbconvert_exporter": "python",
   "pygments_lexer": "ipython3",
   "version": "3.9.13"
  }
 },
 "nbformat": 4,
 "nbformat_minor": 5
}
